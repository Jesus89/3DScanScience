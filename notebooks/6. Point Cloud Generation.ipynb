{
 "cells": [
  {
   "cell_type": "markdown",
   "metadata": {},
   "source": [
    "#Point Cloud Generation"
   ]
  },
  {
   "cell_type": "markdown",
   "metadata": {},
   "source": [
    "In this article it is explaned the algorithm to obtain a 3D point cloud in world coordinates system, from a vector of detected 2D points in the camera image.\n",
    "\n"
   ]
  },
  {
   "cell_type": "markdown",
   "metadata": {},
   "source": [
    "###Acronyms"
   ]
  },
  {
   "cell_type": "markdown",
   "metadata": {},
   "source": [
    "| Symbol                  | Description                                              |\n",
    "|:-----------------------:|:--------------------------------------------------------:|\n",
    "| $c$                     | Camera coordinate system                                 |\n",
    "| $w$                     | World coordinate system                                  |\n",
    "| $w_\\theta$              | World coordinate system rotated $\\theta$ in z coordinate |\n",
    "| $(u, v)$                | Coordinates of the projection point (px)                 |\n",
    "| $K$                     | Camera matrix or matrix of intrinsics parameters (px)    |\n",
    "| $f_x, f_y$              | Vertical and horizontal focal lengths  (px)              |\n",
    "| $c_x, c_y$              | Vertical and horizontal optical centers (px)             |\n",
    "| $\\textbf{x}$            | Coordinates of the projection point normalized           |\n",
    "| $d$                     | Laser plane minimum distance (mm)                        |\n",
    "| $\\textbf{n}$            | Laser plane normal vector normalized                     |\n",
    "| $\\textbf{X}_c$          | Coordinates of the projection point in $c$ (mm)          |\n",
    "| $R_c$                   | World rotation matrix in $c$                             |\n",
    "| $\\textbf{t}_c$          | World translation vector in $c$ (mm)                     |\n",
    "| $\\textbf{X}_{w_\\theta}$ | Coordinates of the projection point in $w_\\theta$(mm)    |\n",
    "| $R_z(\\theta)$           | Rotation matrix in z of $\\theta$                         |\n",
    "| $\\textbf{X}_w$          | Coordinates of the projection point in $w$ (mm)          |"
   ]
  },
  {
   "cell_type": "markdown",
   "metadata": {},
   "source": [
    "##Image coordinates\n",
    "A vector of $(u, v)$ values has been obtained from previous image processing of the laser impact into the object. To simplify it, only one point $(u, v)$ will be used instead of the whole vector. The coordinate $u$ corresponds to the horizontal coordinate and $v$ to the vertical coordinate of the image. The origin of coordinates is in the top-left corner of the image."
   ]
  },
  {
   "cell_type": "markdown",
   "metadata": {},
   "source": [
    "![](https://raw.githubusercontent.com/Jesus89/3DScanScience/master/notebooks/images/image_coordinates.png)"
   ]
  },
  {
   "cell_type": "code",
   "execution_count": 1,
   "metadata": {
    "collapsed": true
   },
   "outputs": [],
   "source": [
    "import numpy as np\n",
    "u = 353.21\n",
    "v = 231.96"
   ]
  },
  {
   "cell_type": "markdown",
   "metadata": {
    "collapsed": true
   },
   "source": [
    "##Projection point\n",
    "Camera matrix relates the image system with the normalized 3D coordinates. It contains vertical an horizontal focal lengths and optical centers in pixel units."
   ]
  },
  {
   "cell_type": "markdown",
   "metadata": {},
   "source": [
    "$$K=\n",
    "\\begin{bmatrix}\n",
    "f_x & 0   & c_x \\\\\n",
    "0   & f_y & c_y \\\\\n",
    "0   & 0   & 1\n",
    "\\end{bmatrix}$$"
   ]
  },
  {
   "cell_type": "markdown",
   "metadata": {},
   "source": [
    "Using $u$ and $v$ coordinates from the video image where the point is captured, the projection point vector without units can be obtained."
   ]
  },
  {
   "cell_type": "markdown",
   "metadata": {},
   "source": [
    "![](https://raw.githubusercontent.com/Jesus89/3DScanScience/master/notebooks/images/projection_point_normalized.png)"
   ]
  },
  {
   "cell_type": "markdown",
   "metadata": {},
   "source": [
    "$$\\normalsize\n",
    "\\textbf{x}\n",
    "=K^{-1}·\n",
    "\\begin{pmatrix}\n",
    "u \\\\ v \\\\ 1\n",
    "\\end{pmatrix}$$"
   ]
  },
  {
   "cell_type": "markdown",
   "metadata": {},
   "source": [
    "$$\\normalsize\n",
    "\\textbf{x}^T=\n",
    "\\begin{pmatrix}\n",
    "(u-c_x) \\over f_x & (v-c_y) \\over f_y & 1\n",
    "\\end{pmatrix}$$"
   ]
  },
  {
   "cell_type": "code",
   "execution_count": 2,
   "metadata": {
    "collapsed": false
   },
   "outputs": [],
   "source": [
    "fx = 1430; fy = 1430; cx = 480; cy = 640\n",
    "\n",
    "x = np.matrix([[(u - cx) / fx], [(v - cy) / fy], [1]])"
   ]
  },
  {
   "cell_type": "markdown",
   "metadata": {},
   "source": [
    "##Laser plane intersection\n",
    "Normal vector $\\textbf{n}$ and minimum distance $d$ is the minimum information required to define a plane in a three dimensional space. In order to determine the real coordinates of the point in mm, the intersection calculation of the projection point normalized with the corresponding laser plane is needed."
   ]
  },
  {
   "cell_type": "markdown",
   "metadata": {},
   "source": [
    "![](https://raw.githubusercontent.com/Jesus89/3DScanScience/master/notebooks/images/laser_plane_intersection.png)"
   ]
  },
  {
   "cell_type": "markdown",
   "metadata": {},
   "source": [
    "$$\\normalsize\\textbf{X}_c=\\left({-d \\over {\\textbf{x}·\\textbf{n}^T}}\\right)·\\textbf{x}$$"
   ]
  },
  {
   "cell_type": "code",
   "execution_count": 3,
   "metadata": {
    "collapsed": false
   },
   "outputs": [],
   "source": [
    "d = 156.11\n",
    "n = np.matrix([[-0.86952], [-0.020884], [0.493456]])\n",
    "\n",
    "Xc = (-d / x * n.T) * x"
   ]
  },
  {
   "cell_type": "markdown",
   "metadata": {},
   "source": [
    "The result is the point in a real 3D space respect to the camera coordinate system, in mm."
   ]
  },
  {
   "cell_type": "markdown",
   "metadata": {},
   "source": [
    "##Homogeneus transformation\n",
    "The point $\\textbf{X}_c$ is transformed to the world inertial system using homogeneus transformation $[R_c, \\textbf{t}_c]$"
   ]
  },
  {
   "cell_type": "markdown",
   "metadata": {},
   "source": [
    "![](https://raw.githubusercontent.com/Jesus89/3DScanScience/master/notebooks/images/homogeneous_transformation.png)"
   ]
  },
  {
   "cell_type": "markdown",
   "metadata": {},
   "source": [
    "$$\\normalsize\\textbf{X}_{w_\\theta}=R_c^T·\\textbf{X}_c - R_c^T·\\textbf{t}_c$$"
   ]
  },
  {
   "cell_type": "code",
   "execution_count": 4,
   "metadata": {
    "collapsed": false
   },
   "outputs": [],
   "source": [
    "R = np.matrix([[0,1,0],[0,0,-1],[-1,0,0]])\n",
    "t = np.matrix([[-3],[22],[315]])\n",
    "\n",
    "Xwo = R.T * Xc - R.T * t"
   ]
  },
  {
   "cell_type": "markdown",
   "metadata": {},
   "source": [
    "This is the same point computed in the previous step, but in the world intertial system instead, that is, a system attached to the platform."
   ]
  },
  {
   "cell_type": "markdown",
   "metadata": {},
   "source": [
    "##World rotation\n",
    "Finally, the point is transformed to a fixed common system. To do that, the performance of another transformation from the inertial system to the world fixed coordinate system is needed. In Ciclop, this is a rotation in common z axis of $\\theta$, the current angle in the scanning process."
   ]
  },
  {
   "cell_type": "markdown",
   "metadata": {},
   "source": [
    "![](https://raw.githubusercontent.com/Jesus89/3DScanScience/master/notebooks/images/world_rotation.png)"
   ]
  },
  {
   "cell_type": "markdown",
   "metadata": {},
   "source": [
    "$$\\normalsize\\textbf{X}_{w}=R_z(\\theta)·\\textbf{X}_{w_\\theta}$$"
   ]
  },
  {
   "cell_type": "code",
   "execution_count": 5,
   "metadata": {
    "collapsed": false
   },
   "outputs": [],
   "source": [
    "theta = -37.35 * np.pi / 180.0\n",
    "c = np.cos(theta)\n",
    "s = np.sin(theta)\n",
    "Rz = np.matrix([[c, -s, 0], [s, c, 0], [0, 0, 1]])\n",
    "\n",
    "Xw = Rz * Xwo"
   ]
  }
 ],
 "metadata": {
  "kernelspec": {
   "display_name": "Python 3",
   "language": "python",
   "name": "python3"
  },
  "language_info": {
   "codemirror_mode": {
    "name": "ipython",
    "version": 3
   },
   "file_extension": ".py",
   "mimetype": "text/x-python",
   "name": "python",
   "nbconvert_exporter": "python",
   "pygments_lexer": "ipython3",
   "version": "3.4.0"
  }
 },
 "nbformat": 4,
 "nbformat_minor": 0
}
