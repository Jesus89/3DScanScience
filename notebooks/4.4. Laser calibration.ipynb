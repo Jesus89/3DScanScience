{
 "cells": [
  {
   "cell_type": "markdown",
   "metadata": {},
   "source": [
    "#Laser calibration"
   ]
  },
  {
   "cell_type": "markdown",
   "metadata": {},
   "source": [
    "In this article is presented the laser calibration process, that is, the method to determine the position and orientation of the laser, respect to the camera."
   ]
  },
  {
   "cell_type": "markdown",
   "metadata": {},
   "source": [
    "##Capture laser point cloud"
   ]
  },
  {
   "cell_type": "markdown",
   "metadata": {},
   "source": [
    "Pattern is automatically moved on the turntable from -90º to 90º respect to the initial position. Each step (5º) it is captured a point cloud of the laser ([Laser segmentation]()) intersecting with the plane of the pattern ([Point cloud generation]())."
   ]
  },
  {
   "cell_type": "markdown",
   "metadata": {},
   "source": [
    "At the end of the capture process, a complete point cloud of the laser is obtained. All points in this point cloud are near to the laser plane. Therefore, this point cloud will be used to determine the plane parameters, as is, the normal vector and the minimum distance respect to the camera coordinate system."
   ]
  },
  {
   "cell_type": "code",
   "execution_count": 1,
   "metadata": {
    "collapsed": false
   },
   "outputs": [],
   "source": [
    "import numpy as np\n",
    "\n",
    "#Load point cloud\n",
    "X = np.array([[1,2,3], [3,2,3], [4,1,3], [0,-1,3]])"
   ]
  },
  {
   "cell_type": "markdown",
   "metadata": {},
   "source": [
    "##Fit laser plane"
   ]
  },
  {
   "cell_type": "markdown",
   "metadata": {},
   "source": [
    "In order to fit a plane from a point cloud $\\textbf{X}$, SVD (Singular Value Decomposition) can be used. This method provides a fast way to obtain the normal $\\textbf{n}$ and the distance $d$."
   ]
  },
  {
   "cell_type": "markdown",
   "metadata": {},
   "source": [
    "$$\n",
    "\\textbf{X}_i = \\begin{bmatrix} x_i \\\\ y_i \\\\ z_i \\\\ \\end{bmatrix}\n",
    "\\:\\:\\:\\:\\:\\:\\:\\:\\:\\:\n",
    "\\overline{\\textbf{X}} = \\frac{1}{n}{\\sum{\\textbf{X}_i}}\n",
    "\\:\\:\\:\\:\\:\\:\\:\\:\\:\\:\n",
    "\\widetilde{\\textbf{X}_i} = \\textbf{X}_i - \\overline{\\textbf{X}}\n",
    "\\:\\:\\:\\:\\:\\:\\:\\:\\:\\:\n",
    "M = \\begin{bmatrix} \\widetilde{\\textbf{X}_1} \\: ... \\: \\widetilde{\\textbf{X}_i} \\: ... \\: \\end{bmatrix}\n",
    "$$"
   ]
  },
  {
   "cell_type": "markdown",
   "metadata": {},
   "source": [
    "###Problem\n",
    "$$\n",
    "min \\: M^T \\textbf{n}\n",
    "\\:\\:\\:\\:\\:\\:\n",
    "\\| \\textbf{n} \\| = 1\n",
    "$$\n",
    "###Solution\n",
    "$$\n",
    "M = USV^T\n",
    "\\:\\:\\:\\:\\:\\:\n",
    "\\textbf{n} = U \\begin{bmatrix} 0 \\\\ 0 \\\\ 1 \\\\ \\end{bmatrix}\n",
    "\\:\\:\\:\\:\\:\\:\n",
    "d = - \\textbf{n} \\: \\overline{\\textbf{X}}\n",
    "$$"
   ]
  },
  {
   "cell_type": "code",
   "execution_count": 2,
   "metadata": {
    "collapsed": false
   },
   "outputs": [
    {
     "name": "stdout",
     "output_type": "stream",
     "text": [
      "\n",
      "Normal vector\n",
      "\n",
      "[ 0.  0.  1.]\n",
      "\n",
      "\n",
      "Plane distance\n",
      "\n",
      "2.999999999999999 mm\n",
      "\n"
     ]
    }
   ],
   "source": [
    "from scipy.sparse import linalg\n",
    "\n",
    "n = X.shape[0]\n",
    "Xm = X.sum(axis=0) / n\n",
    "M = np.array(X - Xm).T\n",
    "\n",
    "U = linalg.svds(M, k=2)[0]\n",
    "\n",
    "n = np.cross(U.T[0], U.T[1])\n",
    "if n[2] < 0:\n",
    "    n *= -1\n",
    "\n",
    "d = np.dot(n, Xm)\n",
    "\n",
    "print(\"\\nNormal vector\\n\\n{0}\\n\".format(n))\n",
    "print(\"\\nPlane distance\\n\\n{0} mm\\n\".format(d))"
   ]
  },
  {
   "cell_type": "markdown",
   "metadata": {},
   "source": [
    "##References\n",
    "* [SVD fitting](http://www.ltu.se/cms_fs/1.51590!/svd-fitting.pdf)"
   ]
  }
 ],
 "metadata": {
  "kernelspec": {
   "display_name": "Python 3",
   "language": "python",
   "name": "python3"
  },
  "language_info": {
   "codemirror_mode": {
    "name": "ipython",
    "version": 3
   },
   "file_extension": ".py",
   "mimetype": "text/x-python",
   "name": "python",
   "nbconvert_exporter": "python",
   "pygments_lexer": "ipython3",
   "version": "3.4.0"
  }
 },
 "nbformat": 4,
 "nbformat_minor": 0
}
