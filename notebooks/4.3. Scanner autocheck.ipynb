{
 "cells": [
  {
   "cell_type": "markdown",
   "metadata": {},
   "source": [
    "#Scanner autocheck"
   ]
  },
  {
   "cell_type": "markdown",
   "metadata": {},
   "source": [
    "The autocheck process automatically validates the pattern's detection, the motor direction and also the detection of both lasers. To start, it is needed to put the pattern on the platform, in any angle.\n",
    "![](https://raw.githubusercontent.com/Jesus89/3DScanScience/master/notebooks/images/4.3.%20Scanner%20autocheck/pattern-position-right.jpg)"
   ]
  },
  {
   "cell_type": "markdown",
   "metadata": {},
   "source": [
    "##Capture data\n",
    "In this process motor moves 360º from initial position in steps of 30º. In each step [Pattern pose](http://nbviewer.ipython.org/github/Jesus89/3DScanScience/blob/master/notebooks/4.1.%20Pattern%20detection.ipynb) is found. If pattern is detected, x coordinate of normal vector is stored in a dictionary."
   ]
  },
  {
   "cell_type": "code",
   "execution_count": 1,
   "metadata": {
    "collapsed": true
   },
   "outputs": [],
   "source": [
    "step = 30\n",
    "data = {0: -0.38002540887581682, 330: 0.14435357923463937, 300: 0.61172773490478072, 30: -0.78031119549049577}"
   ]
  },
  {
   "cell_type": "markdown",
   "metadata": {},
   "source": [
    "###Pattern detection"
   ]
  },
  {
   "cell_type": "code",
   "execution_count": 2,
   "metadata": {
    "collapsed": false
   },
   "outputs": [],
   "source": [
    "if len(data) == 0:\n",
    "    print(\"Pattern not detected\")"
   ]
  },
  {
   "cell_type": "markdown",
   "metadata": {},
   "source": [
    "###Motor direction"
   ]
  },
  {
   "cell_type": "code",
   "execution_count": 3,
   "metadata": {
    "collapsed": false
   },
   "outputs": [
    {
     "name": "stdout",
     "output_type": "stream",
     "text": [
      "300 0.6117277349047807\n",
      "330 0.14435357923463937\n",
      "360 -0.3800254088758168\n",
      "390 -0.7803111954904958\n"
     ]
    }
   ],
   "source": [
    "sorted_data = {}\n",
    "\n",
    "max_x = max(data.values())\n",
    "max_i = [key for key, value in data.items() if value == max_x][0]\n",
    "min_v = max_x\n",
    "for i in range(max_i, max_i + 360, step):\n",
    "    if i % 360 in data:\n",
    "        v = data[i % 360]\n",
    "        sorted_data[i] = v\n",
    "        print(i, v)\n",
    "        if v <= min_v:\n",
    "            min_v = v\n",
    "        else:\n",
    "            print(\"Wrong motor direction\")"
   ]
  },
  {
   "cell_type": "markdown",
   "metadata": {},
   "source": [
    "###Move to nearest position"
   ]
  },
  {
   "cell_type": "markdown",
   "metadata": {},
   "source": [
    "Once sorted the data, the nearest position of the pattern respect to the camera system can be obtained by linear regression. This position is defined by $n_x = 0$. Having the linear equation between degrees and x coordinate of normal vector it can be obtained the angle in which this condition is reached."
   ]
  },
  {
   "cell_type": "markdown",
   "metadata": {},
   "source": [
    "$$\n",
    "y = m·x + c \\: \\rightarrow \\: angle = -\\frac{c}{m}\n",
    "$$"
   ]
  },
  {
   "cell_type": "code",
   "execution_count": 4,
   "metadata": {
    "collapsed": false
   },
   "outputs": [
    {
     "data": {
      "image/png": "[encoded data removed]",
      "text/plain": [
       "<matplotlib.figure.Figure at 0x7fb0d4c30b70>"
      ]
     },
     "metadata": {},
     "output_type": "display_data"
    },
    {
     "name": "stdout",
     "output_type": "stream",
     "text": [
      "-21.4502018916\n"
     ]
    }
   ],
   "source": [
    "%matplotlib inline\n",
    "import numpy as np\n",
    "import matplotlib.pyplot as plt\n",
    "\n",
    "x = np.array(list(sorted_data.keys()))\n",
    "y = np.array(list(sorted_data.values()))\n",
    "A = np.vstack([x, np.ones(len(x))]).T\n",
    "m, c = np.linalg.lstsq(A, y)[0]\n",
    "angle = -c / m\n",
    "\n",
    "# Plot linear regression\n",
    "plt.plot(x, m * x + c, alpha=0.2)\n",
    "plt.scatter([angle], [0], c='r')\n",
    "plt.scatter(x, y)\n",
    "plt.xlabel('degrees')\n",
    "plt.ylabel('n_x')\n",
    "plt.grid()\n",
    "plt.show()\n",
    "\n",
    "# Move motor angle by short way\n",
    "if angle > 180:\n",
    "    angle -= 360\n",
    "print(angle)"
   ]
  },
  {
   "cell_type": "markdown",
   "metadata": {},
   "source": [
    "###Laser detection"
   ]
  },
  {
   "cell_type": "markdown",
   "metadata": {},
   "source": [
    "When pattern is in fron of the camera, lasers are tested using [Laser segmentation](http://nbviewer.ipython.org/github/Jesus89/3DScanScience/blob/master/notebooks/3.%20Laser%20segmentation.ipynb) and [Hough Line Transformation](http://docs.opencv.org/doc/tutorials/imgproc/imgtrans/hough_lines/hough_lines.html). If both lasers are detected autocheck ends with success."
   ]
  }
 ],
 "metadata": {
  "kernelspec": {
   "display_name": "Python 3",
   "language": "python",
   "name": "python3"
  },
  "language_info": {
   "codemirror_mode": {
    "name": "ipython",
    "version": 3
   },
   "file_extension": ".py",
   "mimetype": "text/x-python",
   "name": "python",
   "nbconvert_exporter": "python",
   "pygments_lexer": "ipython3",
   "version": "3.4.0"
  }
 },
 "nbformat": 4,
 "nbformat_minor": 0
}
