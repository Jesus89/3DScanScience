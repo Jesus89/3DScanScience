{
 "cells": [
  {
   "cell_type": "markdown",
   "metadata": {},
   "source": [
    "# Introduction\n",
    "\n",
    "\n",
    "In these articles the mathematics and algorithms developed in the project Ciclop 3D Scanner are explained. This documentation includes not only theory and equations, but also images, diagrams and real code examples.\n",
    "\n",
    "All this content is released under [CC-BY-SA](http://creativecommons.org/licenses/by-sa/4.0/). This means:\n",
    "\n",
    "* You can use it for whatever you want\n",
    "* If you distribute this content it is needed to preserve attribution\n",
    "* If you modify and distribute this content you need to share it with the community\n",
    "\n",
    "This documentation includes a lot of known algorithms and new ones developed by me. Those algorithms and methods are implemented in the Horus software application using Ciclop 3D scanner.\n",
    "\n",
    "This is a live documentation, it may change over time, including improvements and new implementations. If you detect any error or you want to make a contribution send a pull request or an issue to this repository.\n",
    "\n",
    "## Open Source DIY 3D Laser Scanner\n",
    "\n",
    "In this [slides](https://github.com/Jesus89/slides/blob/master/ciclop-horus.pdf) you will find a brief presentation of the evolution of this project.\n",
    "\n",
    "### Why a 3D Scanner?\n",
    "\n",
    "3D printers are being increasingly used in many fields: technology, medicine, art, education, etc. 3D Scanners are the natural complement to 3D printers.\n",
    "\n",
    "A 3D scanner allows to scan physical objects. Atoms become digital point clouds. These point clouds can be converted to meshes and be 3D printed, or used in modeling and animation applications.\n",
    "\n",
    "### Why a DIY laser scanner?\n",
    "\n",
    "The project goal is to obtain a simple, low cost 3D scanner without the need to use specific 3D sensing technology, large processors or cloud computing servers.\n",
    "\n",
    "A 3D laser scanner is composed by simple elements: cameras, lasers and motors, which can be combined in multiple ways. Those components are cheap and easy to find, and, with the designs released, make this technology accessible to everyone.\n",
    "\n",
    "### Why open source?\n",
    "\n",
    "Currently there is a large community of open 3D printers called [RepRap] (http://reprap.org/). The fact that 3D printers are 100% open and the active participation of the community members has made that the 3D printing technology, with more than 30 years, is now beginning to emerge globally.\n",
    "\n",
    "3D scanners existed for a long time, but either the cost or the privative knowledge, have not reached the same level as 3D printers.\n",
    "\n",
    "This project is an open source contribution developed with open source tools. Being open source, everyone can access it, learn, build, improve, evolve and contribute to its development.\n",
    "\n",
    "Only then science and technology can really be democratic and to contribute to the progress.\n",
    "\n",
    "\n",
    "## Ciclop\n",
    "Ciclop is an open source DIY 3D laser scanner with a turntable. All its sources are released on [GitHub](https://github.com/bqlabs/ciclop) under [CC-BY-SA](http://creativecommons.org/licenses/by-sa/4.0/).\n",
    "\n",
    "This 3D Scanner is composed by a structure of 3D printed parts, screws, a web cam, two line lasers and a turntable platform with a stepper motor.\n",
    "\n",
    "![](https://raw.githubusercontent.com/Jesus89/3DScanScience/master/notebooks/images/1.%20Introduction/ciclop.png)\n",
    "\n",
    "\n",
    "## Horus\n",
    "\n",
    "Horus is a complete desktop application for 3D scanning. This project has been developed in Python language and it is distributed under [GPL v2](http://www.gnu.org/licenses/old-licenses/gpl-2.0.html). All source code is released on [GitHub](https://github.com/bqlabs/horus).\n",
    "\n",
    "This application offers a graphical user interface to connect, control, adjust, calibrate and scan objects with an open source 3D scanner. Also it contains real-time visualization of 3D point clouds.\n",
    "\n",
    "![](https://raw.githubusercontent.com/Jesus89/3DScanScience/master/notebooks/images/1.%20Introduction/horus.png)"
   ]
  }
 ],
 "metadata": {
  "kernelspec": {
   "display_name": "Python 2",
   "language": "python",
   "name": "python2"
  },
  "language_info": {
   "codemirror_mode": {
    "name": "ipython",
    "version": 2
   },
   "file_extension": ".py",
   "mimetype": "text/x-python",
   "name": "python",
   "nbconvert_exporter": "python",
   "pygments_lexer": "ipython2",
   "version": "2.7.6"
  }
 },
 "nbformat": 4,
 "nbformat_minor": 0
}
